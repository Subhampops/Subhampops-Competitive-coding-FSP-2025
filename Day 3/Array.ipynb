{
 "cells": [
  {
   "cell_type": "code",
   "execution_count": null,
   "id": "c72fc81d-44f1-42cb-9a8f-632fd22ffe74",
   "metadata": {},
   "outputs": [],
   "source": [
    "# Array Problem-1\n",
    "\n",
    "n = 5 (User Given)\n",
    "       0   1   2   3   4\n",
    "--------------------------\n",
    " 0 |   1   2   3   4   5 =>  0 + (col + 1)\n",
    " 1 |   6   7   8   9  10 =>  5 + (col + 1)\n",
    " 2 |  11  12  13  14  15 => 10 + (col + 1)  => row * n + (col + 1)\n",
    " 3 |  16  17  18  19  20 => 15 + (col + 1)\n",
    " 4 |  21  22  23  24  25 => 20 + (col + 1) \n",
    "--------------------------"
   ]
  },
  {
   "cell_type": "code",
   "execution_count": 2,
   "id": "c2a85009-c14a-4599-9741-fb5fb3472f98",
   "metadata": {},
   "outputs": [
    {
     "name": "stdin",
     "output_type": "stream",
     "text": [
      "Please enter the dimension of the square matrix:  5\n"
     ]
    },
    {
     "name": "stdout",
     "output_type": "stream",
     "text": [
      "Displaying the content of the matrix.....\n",
      "   1   2   3   4   5\n",
      "   6   7   8   9  10\n",
      "  11  12  13  14  15\n",
      "  16  17  18  19  20\n",
      "  21  22  23  24  25\n",
      "End of the program....\n"
     ]
    }
   ],
   "source": [
    "n = int(input(\"Please enter the dimension of the square matrix: \"))\n",
    "matrix = [[0 for col in range(n)] for row in range(n)]\n",
    "for row in range(n):\n",
    "    for col in range(n):\n",
    "        matrix[row][col] = row * n + (col + 1)\n",
    "print(\"Displaying the content of the matrix.....\")\n",
    "for row in range(n):\n",
    "    for col in range(n):\n",
    "        print(\"%4d\"%matrix[row][col], end = \"\")\n",
    "    print()\n",
    "print(\"End of the program....\")    \n",
    "        "
   ]
  },
  {
   "cell_type": "code",
   "execution_count": null,
   "id": "cda24fff-98da-4101-a2c1-f102a9b139f1",
   "metadata": {},
   "outputs": [],
   "source": [
    "# Array Problem-2\n",
    "\n",
    "n = 5 (User Given)\n",
    "       0   1   2   3   4\n",
    "--------------------------\n",
    " 0 |   1   6  11  16  21\n",
    " 1 |   2   7  12  17  22\n",
    " 2 |   3   8  13  18  23  => col * n + (row + 1)\n",
    " 3 |   4   9  14  19  24\n",
    " 4 |   5  10  15  20  25  \n",
    "--------------------------"
   ]
  },
  {
   "cell_type": "code",
   "execution_count": 3,
   "id": "0b6b1f27-f2aa-4de7-84b4-1fec9e99cd68",
   "metadata": {},
   "outputs": [
    {
     "name": "stdin",
     "output_type": "stream",
     "text": [
      "Please enter the dimension of the square matrix:  5\n"
     ]
    },
    {
     "name": "stdout",
     "output_type": "stream",
     "text": [
      "Displaying the content of the matrix...\n",
      "   1   6  11  16  21\n",
      "   2   7  12  17  22\n",
      "   3   8  13  18  23\n",
      "   4   9  14  19  24\n",
      "   5  10  15  20  25\n",
      "End of the program...\n"
     ]
    }
   ],
   "source": [
    "n = int(input(\"Please enter the dimension of the square matrix: \"))\n",
    "matrix = [[0 for col in range(n)] for row in range(n)]  # defining the list using list comprehension\n",
    "for row in range(n):  # initializing the matrix\n",
    "    for col in range(n):\n",
    "        matrix[row][col] = col * n + (row + 1)\n",
    "print(\"Displaying the content of the matrix...\")\n",
    "for row in range(n):\n",
    "    for col in range(n):\n",
    "        print(\"%4d\"%matrix[row][col], end = \"\")\n",
    "    print()\n",
    "print(\"End of the program...\")"
   ]
  },
  {
   "cell_type": "code",
   "execution_count": null,
   "id": "106b8484-d4cf-4051-8023-c7599d758a8f",
   "metadata": {},
   "outputs": [],
   "source": [
    "# Array Problem-3\n",
    "\n",
    "n = 5 (User Given)\n",
    "       0   1   2   3   4\n",
    "--------------------------\n",
    " 0 |  50   0   0   0   0\n",
    " 1 |   0  50   0   0   0\n",
    " 2 |   0   0  50   0   0\n",
    " 3 |   0   0   0  50   0\n",
    " 4 |   0   0   0   0  50  \n",
    "--------------------------"
   ]
  },
  {
   "cell_type": "code",
   "execution_count": 8,
   "id": "6e99a361-4a2e-424a-90c9-d18a978b1dd0",
   "metadata": {},
   "outputs": [
    {
     "name": "stdin",
     "output_type": "stream",
     "text": [
      "Please enter the dimension of the square matrix:  5\n"
     ]
    },
    {
     "name": "stdout",
     "output_type": "stream",
     "text": [
      "Displaying the content of the matrix...\n",
      "  50   0   0   0   0\n",
      "   0  50   0   0   0\n",
      "   0   0  50   0   0\n",
      "   0   0   0  50   0\n",
      "   0   0   0   0  50\n",
      "End of the program...\n"
     ]
    }
   ],
   "source": [
    "n = int(input(\"Please enter the dimension of the square matrix: \"))\n",
    "matrix = [[0 for col in range(n)] for row in range(n)]  # defining the list using list comprehension\n",
    "for row in range(n):  # initializing the matrix\n",
    "    for col in range(n):\n",
    "        if (row == col):\n",
    "             matrix[row][col] = 50\n",
    "print(\"Displaying the content of the matrix...\")\n",
    "for row in range(n):\n",
    "    for col in range(n):\n",
    "        print(\"%4d\"%matrix[row][col], end = \"\")\n",
    "    print()\n",
    "print(\"End of the program...\")"
   ]
  },
  {
   "cell_type": "code",
   "execution_count": 9,
   "id": "47ccb1e5-f1bc-4ecf-bed1-7ebb151b0831",
   "metadata": {},
   "outputs": [
    {
     "name": "stdin",
     "output_type": "stream",
     "text": [
      "Please enter the dimension of the square matrix:  5\n"
     ]
    },
    {
     "name": "stdout",
     "output_type": "stream",
     "text": [
      "Displaying the content of the matrix...\n",
      "  50   0   0   0   0\n",
      "   0  50   0   0   0\n",
      "   0   0  50   0   0\n",
      "   0   0   0  50   0\n",
      "   0   0   0   0  50\n",
      "End of the program...\n"
     ]
    }
   ],
   "source": [
    "n = int(input(\"Please enter the dimension of the square matrix: \"))\n",
    "matrix = [[0 for col in range(n)] for row in range(n)]  # defining the list using list comprehension\n",
    "for row in range(n):  # initializing the matrix\n",
    "    matrix[row][row] = 50\n",
    "print(\"Displaying the content of the matrix...\")\n",
    "for row in range(n):\n",
    "    for col in range(n):\n",
    "        print(\"%4d\"%matrix[row][col], end = \"\")\n",
    "    print()\n",
    "print(\"End of the program...\")"
   ]
  },
  {
   "cell_type": "code",
   "execution_count": 13,
   "id": "0ebf935c-d87b-432c-aa64-da7224c5665d",
   "metadata": {},
   "outputs": [
    {
     "name": "stdin",
     "output_type": "stream",
     "text": [
      "Please enter the dimension of the square matrix:  5\n"
     ]
    },
    {
     "name": "stdout",
     "output_type": "stream",
     "text": [
      "Displaying the content of the matrix...\n",
      "  50   0   0   0  30\n",
      "   0  50   0  30   0\n",
      "   0   0  80   0   0\n",
      "   0  30   0  50   0\n",
      "  30   0   0   0  50\n",
      "End of the program...\n"
     ]
    }
   ],
   "source": [
    "n = int(input(\"Please enter the dimension of the square matrix: \"))\n",
    "matrix = [[0 for col in range(n)] for row in range(n)]  # defining the list using list comprehension\n",
    "row = 0\n",
    "for row in range(n):  # initializing the matrix\n",
    "    matrix[row][row] = 50\n",
    "    matrix[row][n-row-1] += 30\n",
    "print(\"Displaying the content of the matrix...\")\n",
    "for row in range(n):\n",
    "    for col in range(n):\n",
    "        print(\"%4d\"%matrix[row][col], end = \"\")\n",
    "    print()\n",
    "print(\"End of the program...\")"
   ]
  },
  {
   "cell_type": "code",
   "execution_count": 18,
   "id": "581ce9d8-9e5f-4eb4-8870-352d9f488f85",
   "metadata": {},
   "outputs": [
    {
     "name": "stdin",
     "output_type": "stream",
     "text": [
      "Please enter the dimension of the square matrix:  5\n"
     ]
    },
    {
     "name": "stdout",
     "output_type": "stream",
     "text": [
      "Displaying the content of the matrix...\n",
      "   1   2   3   4   5\n",
      "   2   2   3   4   5\n",
      "   3   3   3   4   5\n",
      "   4   4   4   4   5\n",
      "   5   5   5   5   5\n",
      "End of the program...\n"
     ]
    }
   ],
   "source": [
    "n = int(input(\"Please enter the dimension of the square matrix: \"))\n",
    "matrix = [[0 for col in range(n)] for row in range(n)]  # defining the list using list comprehension\n",
    "for row in range(n):  # initializing the matrix\n",
    "    for col in range(n):\n",
    "        matrix[row][col] = 1 + (row if (row >= col) else col)\n",
    "        #matrix[row][col] = max(row,col) + 1\n",
    "print(\"Displaying the content of the matrix...\")\n",
    "for row in range(n):\n",
    "    for col in range(n):\n",
    "        print(\"%4d\"%matrix[row][col], end = \"\")\n",
    "    print()\n",
    "print(\"End of the program...\") "
   ]
  },
  {
   "cell_type": "code",
   "execution_count": null,
   "id": "d2b74c36-0cc1-4b5e-bc9d-37906fb74117",
   "metadata": {},
   "outputs": [],
   "source": [
    "# Array Problem-6\n",
    "# Spiral Fill Up (Clockwise)\n",
    "Fill up a square matrix with dimension nxn (where n is an ODD number, user given), with numbers\n",
    "ranging from 1 to n^2 using them once starting from left top corner in a clock-wise manner.\n",
    "n = 5 (User given Odd number)\n",
    "       0   1   2   3   4    row, col => the current row and col numbers of the matrix\n",
    "--------------------------  rr, cc => increment or decrement factors on rows and cols (0, +1, -1)\n",
    " 0 |   1   2   3   4   5    rr  cc   row = row + rr, col = col + cc\n",
    " 1 |  16  17  18  19   6    ------   1> Out of range:\n",
    " 2 |  15  24  25  20   7     0   1      a. if (col == n)\n",
    " 3 |  14  23  22  21   8     1   0      b. if (row == n)\n",
    " 4 |  13  12  11  10   9     0  -1      c. if (col == -1)\n",
    "--------------------------  -1   0 \n",
    "n = 3 (User given Odd number-------  2> Pre-occupied: \n",
    "       0   1   2             0   1      a. if (matrix[row][col] != 0)\n",
    "------------------     rr, cc = cc, -rr\n",
    " 0 |   1   2   3\n",
    " 1 |   8   9   4\n",
    " 2 |   7   6   5\n",
    "--------------------------\n"
   ]
  },
  {
   "cell_type": "code",
   "execution_count": 34,
   "id": "c8ffcd0e-9e18-486d-8be5-ebb1a9df064c",
   "metadata": {},
   "outputs": [
    {
     "name": "stdin",
     "output_type": "stream",
     "text": [
      "Please enter the dimension of the square matrix:  5\n"
     ]
    },
    {
     "name": "stdout",
     "output_type": "stream",
     "text": [
      "Displaying the content of the matrix...\n",
      "   1   2   3   4   5\n",
      "  16  17  18  19   6\n",
      "  15  24  25  20   7\n",
      "  14  23  22  21   8\n",
      "  13  12  11  10   9\n",
      "End of the program...\n"
     ]
    }
   ],
   "source": [
    "n = int(input(\"Please enter the dimension of the square matrix: \"))\n",
    "matrix = [[0 for col in range(n)] for row in range(n)]\n",
    "# print(matrix)\n",
    "row = col = rr = 0; cc = 1\n",
    "for i in range(1, n * n + 1):\n",
    "    matrix[row][col] = i\n",
    "    trow = row + rr; tcol = col + cc\n",
    "    if (tcol == n or trow == n or tcol == -1 or matrix[trow][tcol] != 0):\n",
    "        rr, cc = cc, -rr\n",
    "    row = row + rr; col = col + cc\n",
    "print(\"Displaying the content of the matrix...\")\n",
    "for row in range(n):\n",
    "    for col in range(n):\n",
    "        print(\"%4d\"%matrix[row][col], end = \"\")\n",
    "    print()\n",
    "print(\"End of the program...\")"
   ]
  },
  {
   "cell_type": "code",
   "execution_count": null,
   "id": "f2f5df7c-3583-4428-b98b-7e105c55b629",
   "metadata": {},
   "outputs": [],
   "source": [
    "# Array Problem-7\n",
    "# Spiral Fill Up (Anti Clockwise)\n",
    "Fill up a square matrix with dimension nxn (where n is an number, user given), with numbers\n",
    "ranging from 1 to n^2 using them once starting from left top corner in a anti clock-wise manner.\n",
    "n = 5 (User given Odd number)\n",
    "       0   1   2   3   4    row, col => the current row and col numbers of the matrix\n",
    "--------------------------  rr, cc => increment or decrement factors on rows and cols (0, +1, -1)\n",
    " 0 |   1  16  15  14  13    rr  cc   row = row + rr, col = col + cc\n",
    " 1 |   2  17  24  23  12    ------   1> Out of range:\n",
    " 2 |   3  18  25  22  11     1   0      a. if (row == n)\n",
    " 3 |   4  19  20  21  10     0   1      b. if (col == n)\n",
    " 4 |   5   6   7   8   9    -1   0      c. if (row == -1)\n",
    "--------------------------   0  -1 \n",
    "n = 3 (User given Odd number-------  2> Pre-occupied: \n",
    "       0   1   2             1   0      a. if (matrix[row][col] != 0)\n",
    "------------------     rr, cc = -cc, rr\n",
    " 0 |   1   8   7\n",
    " 1 |   2   9   6\n",
    " 2 |   3   4   5\n",
    "--------------------------"
   ]
  },
  {
   "cell_type": "code",
   "execution_count": 30,
   "id": "49350d88-ebb8-4db9-b705-f353bd935453",
   "metadata": {},
   "outputs": [
    {
     "name": "stdin",
     "output_type": "stream",
     "text": [
      "Please enter the dimension of the square matrix:  5\n"
     ]
    },
    {
     "name": "stdout",
     "output_type": "stream",
     "text": [
      "Displaying the content of the matrix...\n",
      "   1  16  15  14  13\n",
      "   2  17  24  23  12\n",
      "   3  18  25  22  11\n",
      "   4  19  20  21  10\n",
      "   5   6   7   8   9\n",
      "End of the program...\n"
     ]
    }
   ],
   "source": [
    "n = int(input(\"Please enter the dimension of the square matrix: \"))\n",
    "matrix = [[0 for col in range(n)] for row in range(n)]\n",
    "# print(matrix)\n",
    "row = col = cc = 0; rr = 1\n",
    "for i in range(1, n * n + 1):\n",
    "    matrix[row][col] = i\n",
    "    trow = row + rr; tcol = col + cc\n",
    "    if (trow == n or tcol == n or trow == -1 or matrix[trow][tcol] != 0):\n",
    "        rr, cc = -cc, rr\n",
    "    row = row + rr; col = col + cc\n",
    "print(\"Displaying the content of the matrix...\")\n",
    "for row in range(n):\n",
    "    for col in range(n):\n",
    "        print(\"%4d\"%matrix[row][col], end = \"\")\n",
    "    print()\n",
    "print(\"End of the program...\")"
   ]
  },
  {
   "cell_type": "code",
   "execution_count": null,
   "id": "cf5e8539-9d3d-4c5a-b845-509ae3380e8e",
   "metadata": {},
   "outputs": [],
   "source": [
    "# Array Problem-8\n",
    "# Saddle Point Number\n",
    "A Saddle Point number in a matix at location matrix[row][col] is that \n",
    "very number which is maximum along the row and minimum along the col or \n",
    "vice versa. Find out all possible Saddle Point numbers in one user\n",
    "given matrix. If all the numbers in a matrix are equal, then all the \n",
    "numbers will be Saddle Point numbers.\n",
    "\n",
    "rowmax = 4, colmax = 5 (user given integers)\n",
    "       0   1   2   3   4    \n",
    "--------------------------  \n",
    " 0 |  51  16  15  14  13    smallest number in row: \n",
    " 1 |  42  27  24  23  32    \n",
    " 2 |  25  18  25  22  11    \n",
    " 3 |  44  19  20  21  10    \n",
    "--------------------------  \n",
    "Saddle Point Number - 23 at row = 1 (minimum) and col = 3 (maximum)\n",
    "Saddle Point Number - 25 at row = 2 (maximum) and col = 0 (minimum)"
   ]
  },
  {
   "cell_type": "code",
   "execution_count": 33,
   "id": "8fa707a6-3891-49f6-b556-82ba81302781",
   "metadata": {},
   "outputs": [
    {
     "name": "stdout",
     "output_type": "stream",
     "text": [
      "Saddle Point number: 25 at row: 2 and col: 0...\n",
      "Saddle Point number: 23 at row: 1 and col: 3...\n",
      "End of the program...\n"
     ]
    }
   ],
   "source": [
    "matrix = [[51, 16, 15, 14, 13],[42, 27, 24, 23, 32],[25, 18, 25, 22, 11],[44, 19, 20, 21, 10]]\n",
    "rowmax = len(matrix); colmax = len(matrix[0])\n",
    "maxmin = [0 for i in range(rowmax)]\n",
    "for k in range(1, 3):\n",
    "    for row in range(rowmax):\n",
    "        maxmin[row] = max(matrix[row]) if (k == 1) else min(matrix[row])\n",
    "    for col in range(colmax):\n",
    "        temp = min([templist[col] for templist in matrix]) if (k == 1) else max([templist[col] for templist in matrix])\n",
    "        for row in range(rowmax):\n",
    "            if (matrix[row][col] == temp and maxmin[row] == temp):\n",
    "                print(f\"Saddle Point number: {matrix[row][col]} at row: {row} and col: {col}...\")\n",
    "print(\"End of the program...\")"
   ]
  },
  {
   "cell_type": "code",
   "execution_count": null,
   "id": "1d6c1124-4c40-4dee-bd6a-5a39325ec1f3",
   "metadata": {},
   "outputs": [],
   "source": []
  },
  {
   "cell_type": "code",
   "execution_count": null,
   "id": "8dda44bc-877f-431c-8d79-1afc8bb1904e",
   "metadata": {},
   "outputs": [],
   "source": []
  },
  {
   "cell_type": "code",
   "execution_count": null,
   "id": "72b54b9d-04e5-4bae-a251-281b0c6c3418",
   "metadata": {},
   "outputs": [],
   "source": []
  },
  {
   "cell_type": "code",
   "execution_count": null,
   "id": "3a6f7cc9-ecca-4397-9acf-cd30749f059d",
   "metadata": {},
   "outputs": [],
   "source": []
  },
  {
   "cell_type": "code",
   "execution_count": null,
   "id": "d4a7f801-fc2e-4dda-ad29-8de1b2c221e9",
   "metadata": {},
   "outputs": [],
   "source": []
  },
  {
   "cell_type": "code",
   "execution_count": null,
   "id": "ce16a8fb-69c9-4a3f-819b-720f1d7e0e1a",
   "metadata": {},
   "outputs": [],
   "source": []
  },
  {
   "cell_type": "code",
   "execution_count": null,
   "id": "e816eca5-f290-4dac-ae80-de88c4219780",
   "metadata": {},
   "outputs": [],
   "source": []
  },
  {
   "cell_type": "code",
   "execution_count": null,
   "id": "b970f9d0-ea88-49f0-a1a7-db78200097da",
   "metadata": {},
   "outputs": [],
   "source": []
  }
 ],
 "metadata": {
  "kernelspec": {
   "display_name": "Python 3 (ipykernel)",
   "language": "python",
   "name": "python3"
  },
  "language_info": {
   "codemirror_mode": {
    "name": "ipython",
    "version": 3
   },
   "file_extension": ".py",
   "mimetype": "text/x-python",
   "name": "python",
   "nbconvert_exporter": "python",
   "pygments_lexer": "ipython3",
   "version": "3.11.7"
  }
 },
 "nbformat": 4,
 "nbformat_minor": 5
}
