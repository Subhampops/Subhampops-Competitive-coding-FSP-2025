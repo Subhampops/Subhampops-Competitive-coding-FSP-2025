{
 "cells": [
  {
   "cell_type": "code",
   "execution_count": null,
   "id": "5eed7258-8214-4e2c-a128-09a8796e83d3",
   "metadata": {},
   "outputs": [],
   "source": [
    "# Series Problem - 7\n",
    "#     i =   1   2   3   4   5   6   7 ...\n",
    "# total =   4 + 7 + 4 + 7 + 4 + 7 + 4 + \n",
    "# Write a program in C++/Java/Python to print the first n terms of the series. Take integer n from the user."
   ]
  },
  {
   "cell_type": "code",
   "execution_count": 1,
   "id": "7d58bf7e-c46c-4d4f-9e1d-66d7408ca2ba",
   "metadata": {},
   "outputs": [
    {
     "name": "stdin",
     "output_type": "stream",
     "text": [
      "Please enter the number of terms:  5\n"
     ]
    },
    {
     "name": "stdout",
     "output_type": "stream",
     "text": [
      "For i = 1, term = 4 and total = 4...\n",
      "For i = 2, term = 7 and total = 11...\n",
      "For i = 3, term = 4 and total = 15...\n",
      "For i = 4, term = 7 and total = 22...\n",
      "For i = 5, term = 4 and total = 26...\n",
      "So the final total is 26...\n",
      "End of the program...\n"
     ]
    }
   ],
   "source": [
    "n = int(input(\"Please enter the number of terms: \"))\n",
    "term = 4\n",
    "total = 0\n",
    "for i in range(1, n + 1):\n",
    "    total = total + term\n",
    "    print(f\"For i = {i}, term = {term} and total = {total}...\")\n",
    "    term = term ^ 3\n",
    "    # term = term + ((-1) ** (i + 1)) * 3\n",
    "    # term = int(5.5 + ((-1) ** (i + 1)) * 1.5)\n",
    "    # term = (term * 2 - 1) % 9\n",
    "    # term = 4 if (total % 11 == 0) else 7\n",
    "    # term = 4 if (term % 2 == 1) else 7\n",
    "    # term = (lambda term:{4:7,7:4}.get(term))(term)\n",
    "    # term = 4 if (i % 2 == 0) else 7\n",
    "    # term = 28 // term\n",
    "    # term = 11 - term\n",
    "    # term = 4 if (term == 7) else 7  # ternary operator\n",
    "    # if (term == 4):\n",
    "    #     term = 7\n",
    "    # else:\n",
    "    #     term = 4\n",
    "print(f\"So the final total is {total}...\")\n",
    "print(\"End of the program...\")"
   ]
  },
  {
   "cell_type": "code",
   "execution_count": 2,
   "id": "b122dcee-54f7-4654-b3c9-68a6b397a86c",
   "metadata": {},
   "outputs": [
    {
     "name": "stdin",
     "output_type": "stream",
     "text": [
      "Please enter the number of terms:  5\n"
     ]
    },
    {
     "name": "stdout",
     "output_type": "stream",
     "text": [
      "For i = 1, term = 4 and total = 4...\n",
      "For i = 2, term = 7 and total = 11...\n",
      "For i = 3, term = 4 and total = 15...\n",
      "For i = 4, term = 7 and total = 22...\n",
      "For i = 5, term = 4 and total = 26...\n",
      "So the final total is 26...\n",
      "End of the program...\n"
     ]
    }
   ],
   "source": [
    "n = int(input(\"Please enter the number of terms: \"))\n",
    "term = 4\n",
    "total = 0\n",
    "for i in range(1, n + 1):\n",
    "    total = total + term\n",
    "    print(f\"For i = {i}, term = {term} and total = {total}...\")\n",
    "    term = (~term & 3) + 4\n",
    "print(f\"So the final total is {total}...\")\n",
    "print(\"End of the program...\")"
   ]
  },
  {
   "cell_type": "code",
   "execution_count": null,
   "id": "ffee07eb-d85f-4bfe-8ec8-3922c1e3f75c",
   "metadata": {},
   "outputs": [],
   "source": [
    "0 xor 0 = 0\n",
    "0 xor 1 = 1\n",
    "1 xor 0 = 1\n",
    "1 xor 1 = 0\n",
    "\n",
    "a xor 0 = a\n",
    "a xor 1 = a'\n",
    "   4 => 100\n",
    "        011 => 3\n",
    "   xor  ---\n",
    "   7 => 111"
   ]
  },
  {
   "cell_type": "code",
   "execution_count": null,
   "id": "80edd918-5c91-468a-bb1b-e70eb096a7c9",
   "metadata": {},
   "outputs": [],
   "source": []
  },
  {
   "cell_type": "code",
   "execution_count": null,
   "id": "a738aed6-c40e-4428-b657-9745a8ac69e3",
   "metadata": {},
   "outputs": [],
   "source": []
  },
  {
   "cell_type": "code",
   "execution_count": null,
   "id": "e11fc721-638d-435c-8cef-eab2ffe9f802",
   "metadata": {},
   "outputs": [],
   "source": []
  },
  {
   "cell_type": "code",
   "execution_count": null,
   "id": "d9c8e032-640e-41b6-a549-bc6326d61274",
   "metadata": {},
   "outputs": [],
   "source": []
  },
  {
   "cell_type": "code",
   "execution_count": null,
   "id": "41adf11e-1493-4d0a-b0cd-caca0d5212cf",
   "metadata": {},
   "outputs": [],
   "source": []
  },
  {
   "cell_type": "code",
   "execution_count": null,
   "id": "2fbc8359-421e-40d4-be50-6babd0f588bd",
   "metadata": {},
   "outputs": [],
   "source": []
  },
  {
   "cell_type": "code",
   "execution_count": null,
   "id": "cfeb13ac-bef8-490d-b701-807f16e53d03",
   "metadata": {},
   "outputs": [],
   "source": []
  },
  {
   "cell_type": "code",
   "execution_count": null,
   "id": "4d2719f9-7191-4a05-8353-5da66a3eea61",
   "metadata": {},
   "outputs": [],
   "source": []
  },
  {
   "cell_type": "code",
   "execution_count": null,
   "id": "228e334a-5740-493e-a50e-32bb5617bcbe",
   "metadata": {},
   "outputs": [],
   "source": []
  },
  {
   "cell_type": "code",
   "execution_count": null,
   "id": "a647f5b4-0a4b-4498-acb4-b24ae95317ab",
   "metadata": {},
   "outputs": [],
   "source": []
  },
  {
   "cell_type": "code",
   "execution_count": null,
   "id": "60cb3fac-ab87-43ca-81a2-a081ef49cf6d",
   "metadata": {},
   "outputs": [],
   "source": []
  },
  {
   "cell_type": "code",
   "execution_count": null,
   "id": "1d8d77c7-4e1b-48f6-b766-6cf503fb1cd7",
   "metadata": {},
   "outputs": [],
   "source": []
  },
  {
   "cell_type": "code",
   "execution_count": null,
   "id": "08655efb-f23b-4a09-b90e-4f0c42a76e25",
   "metadata": {},
   "outputs": [],
   "source": []
  },
  {
   "cell_type": "code",
   "execution_count": null,
   "id": "37de36b4-5ad9-4db8-b525-3d7cfa11c355",
   "metadata": {},
   "outputs": [],
   "source": []
  },
  {
   "cell_type": "code",
   "execution_count": null,
   "id": "e863c263-7122-459d-ba7d-1fd7c67f11fd",
   "metadata": {},
   "outputs": [],
   "source": []
  },
  {
   "cell_type": "code",
   "execution_count": null,
   "id": "ae6b94ca-8dee-47a7-bfd6-2e77c51d6a9f",
   "metadata": {},
   "outputs": [],
   "source": []
  },
  {
   "cell_type": "code",
   "execution_count": null,
   "id": "556b14f6-0885-46e7-a29f-ced5b3885342",
   "metadata": {},
   "outputs": [],
   "source": []
  },
  {
   "cell_type": "code",
   "execution_count": null,
   "id": "9d5643c3-f8a0-489c-806a-b9cbd6a3708b",
   "metadata": {},
   "outputs": [],
   "source": []
  },
  {
   "cell_type": "code",
   "execution_count": null,
   "id": "a5d7d90d-921e-4efe-91d9-13641ae1ad26",
   "metadata": {},
   "outputs": [],
   "source": []
  }
 ],
 "metadata": {
  "kernelspec": {
   "display_name": "Python 3 (ipykernel)",
   "language": "python",
   "name": "python3"
  },
  "language_info": {
   "codemirror_mode": {
    "name": "ipython",
    "version": 3
   },
   "file_extension": ".py",
   "mimetype": "text/x-python",
   "name": "python",
   "nbconvert_exporter": "python",
   "pygments_lexer": "ipython3",
   "version": "3.11.7"
  }
 },
 "nbformat": 4,
 "nbformat_minor": 5
}
