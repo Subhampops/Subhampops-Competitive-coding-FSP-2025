{
 "cells": [
  {
   "cell_type": "markdown",
   "id": "63fca0ee-da5f-4913-b7a8-ff07e26b8546",
   "metadata": {},
   "source": [
    "\"\"Python map() function\"\"\n",
    "The map() function executes a specific function for each item in an iterable. The item is sent to the function as a parameter.\n",
    "Syntax: map(function, iterables)\n",
    "function: Required. The function to execute for each item in the iterable\n",
    "iterable: Required. A sequence, collection or an iterator object. You can send as many iterables as you like, just make sure that the function has one parameter for each iterable."
   ]
  },
  {
   "cell_type": "code",
   "execution_count": 1,
   "id": "d6974cfd-320a-461f-8a49-a8f69309a200",
   "metadata": {},
   "outputs": [
    {
     "name": "stdout",
     "output_type": "stream",
     "text": [
      "[6, 8, 8, 6]\n"
     ]
    }
   ],
   "source": [
    "def funct(mystr):\n",
    "    return len(mystr)\n",
    "list1 = list(map( funct,['Sunday','Saturday','Thursday','Friday']))\n",
    "print(list1)"
   ]
  },
  {
   "cell_type": "code",
   "execution_count": 3,
   "id": "2cbe4ec7-efcb-4c6a-bda1-b632409503ea",
   "metadata": {},
   "outputs": [
    {
     "name": "stdout",
     "output_type": "stream",
     "text": [
      "['Sunday', 'Saturday', 'Friday', 'Thursday']\n",
      "[1011, 2002, 4044, 3033]\n"
     ]
    }
   ],
   "source": [
    "def funct(par1, par2):\n",
    "    return par1 + par2\n",
    "list1 = list(map(funct,['Sund','Satu','Fr','Thursd'], ['ay','rday','iday','ay'])) #string concatenation \n",
    "print(list1)\n",
    "list1 = list(map(funct,[1000,2000,4000,3000],[11,2,44,33])) #algebric addition\n",
    "print(list1)"
   ]
  },
  {
   "cell_type": "code",
   "execution_count": 4,
   "id": "f85759d0-2241-4fab-a398-d56ee5dcf9cf",
   "metadata": {},
   "outputs": [
    {
     "name": "stdin",
     "output_type": "stream",
     "text": [
      "Please enter a set of numbers:  11 33 22 55 44 66 55 77\n"
     ]
    },
    {
     "name": "stdout",
     "output_type": "stream",
     "text": [
      "[11, 33, 22, 55, 44, 66, 55, 77]\n"
     ]
    }
   ],
   "source": [
    "list1 = list(map(int, input(\"Please enter a set of numbers: \").split()))\n",
    "print(list1) "
   ]
  },
  {
   "cell_type": "code",
   "execution_count": 5,
   "id": "816bc1c8-cef5-4430-9a44-a4d25e2ff57a",
   "metadata": {},
   "outputs": [
    {
     "name": "stdin",
     "output_type": "stream",
     "text": [
      "Please enter a set of numbers:  11 33 22 44 55 66 55 77\n"
     ]
    },
    {
     "name": "stdout",
     "output_type": "stream",
     "text": [
      "11 33 22 44 55 66 55 77 <class 'str'>\n",
      "['11', '33', '22', '44', '55', '66', '55', '77'] <class 'str'> <class 'list'>\n"
     ]
    }
   ],
   "source": [
    "mystr = input(\"Please enter a set of numbers: \")\n",
    "print(mystr, type(mystr))\n",
    "list1 = mystr.split()\n",
    "print(list1, type(list1[0]), type(list1))"
   ]
  },
  {
   "cell_type": "code",
   "execution_count": 6,
   "id": "bee228a7-1d66-4613-8dcf-f7061981f1ed",
   "metadata": {},
   "outputs": [
    {
     "name": "stdout",
     "output_type": "stream",
     "text": [
      "['Hi Hi ', 'Hello Hello Hello ', 'Bro Bro Bro Bro ', 'Hey Hey Hey ']\n",
      "[2000, 6000, 16000, 6000]\n"
     ]
    }
   ],
   "source": [
    "def funct(par1, par2):\n",
    "    return par1 * par2\n",
    "list1 = list(map(funct, ['Hi ', 'Hello ', 'Bro ', 'Hey '], [2, 3, 4, 3]))\n",
    "print(list1)\n",
    "list1 = list(map(funct, [1000, 2000, 4000, 3000], [2, 3, 4, 2]))\n",
    "print(list1)"
   ]
  },
  {
   "cell_type": "code",
   "execution_count": 13,
   "id": "39fddba3-9011-4b3b-ba1e-cd86a3f7c49a",
   "metadata": {},
   "outputs": [
    {
     "name": "stdout",
     "output_type": "stream",
     "text": [
      "[300, 200, 400, 900]\n"
     ]
    }
   ],
   "source": [
    "def funct(par1, par2):\n",
    "    return par1 if (par1 > par2) else par2\n",
    "list1 = list(map(funct, [100, 200, 400, 300], [300,200,100,900,300,450]))\n",
    "print(list1)"
   ]
  },
  {
   "cell_type": "code",
   "execution_count": 10,
   "id": "0ade927a-5744-4680-af28-efb7364d07f2",
   "metadata": {},
   "outputs": [
    {
     "name": "stdout",
     "output_type": "stream",
     "text": [
      "['Subham Bhattacharya', 'Rounak Guha', 'Abhiraj Bose', 'Sheetal Roy']\n"
     ]
    }
   ],
   "source": [
    "def funct(par1, par2):\n",
    "    return par1 + \" \" + par2\n",
    "list1 = list(map(funct,['Subham','Rounak','Abhiraj','Sheetal'], ['Bhattacharya','Guha','Bose','Roy'])) #string concatenation \n",
    "print(list1)"
   ]
  },
  {
   "cell_type": "code",
   "execution_count": 15,
   "id": "7d562e2e-c179-406f-8aba-56ecf993c4e6",
   "metadata": {},
   "outputs": [
    {
     "name": "stdout",
     "output_type": "stream",
     "text": [
      "['Grade-C', 'Grade-B', 'Grade-A', 'Grade-C', 'Grade-A', 'Grade-B']\n"
     ]
    }
   ],
   "source": [
    "def funct(marks):\n",
    "    if(marks >= 80): return \"Grade-A\"\n",
    "    elif(marks >= 60): return \"Grade-B\"\n",
    "    else: return \"Grade-C\"\n",
    "list1 = list(map(funct,[40, 65, 90, 55, 95, 66]))\n",
    "print(list1)"
   ]
  },
  {
   "cell_type": "code",
   "execution_count": 16,
   "id": "9869d897-f742-45dc-bbe7-3efdd14432af",
   "metadata": {},
   "outputs": [
    {
     "name": "stdout",
     "output_type": "stream",
     "text": [
      "asAnSol enGineering coLLegE\n",
      "ASANSOL ENGINEERING COLLEGE\n",
      "asansol engineering college\n",
      "ASaNsOL ENgINEERING COllEGe\n",
      "Asansol engineering college\n",
      "Asansol Engineering College\n",
      "                asAnSol enGineering coLLegE                 \n",
      "                ASANSOL ENGINEERING COLLEGE                 \n"
     ]
    }
   ],
   "source": [
    "mystr = 'asAnSol enGineering coLLegE'\n",
    "print(mystr)\n",
    "print(mystr.upper())\n",
    "print(mystr.lower())\n",
    "print(mystr.swapcase())\n",
    "print(mystr.capitalize())\n",
    "print(mystr.title())\n",
    "print(mystr.center(60))\n",
    "print(mystr.upper().center(60))"
   ]
  },
  {
   "cell_type": "code",
   "execution_count": 17,
   "id": "885b0fb4-78dd-4c59-bd54-eec9d22e2780",
   "metadata": {},
   "outputs": [
    {
     "name": "stdout",
     "output_type": "stream",
     "text": [
      "['Anirban Basu', 'Madhu Singh', 'Bitan Adhikari']\n"
     ]
    }
   ],
   "source": [
    "def funct(fname, lname):\n",
    "    return (fname + \" \" + lname).title()\n",
    "list1 = list(map(funct, [\"aNiRbAn\", 'mADhu', 'BItan'], ['BasU', 'sinGh', 'aDhikARi']))\n",
    "print(list1)   "
   ]
  },
  {
   "cell_type": "code",
   "execution_count": null,
   "id": "39a095d9-fc0b-49a1-8b75-cbd4541c88f2",
   "metadata": {},
   "outputs": [],
   "source": []
  },
  {
   "cell_type": "code",
   "execution_count": 18,
   "id": "5861d737-117c-4fd4-bab8-21bb736233f4",
   "metadata": {},
   "outputs": [
    {
     "name": "stdout",
     "output_type": "stream",
     "text": [
      "[90, 25, 34, 20]\n"
     ]
    }
   ],
   "source": [
    "def funct(age):\n",
    "    if (age >= 18): return True\n",
    "    else: return False\n",
    "ages = [11,90, 25,12, 34,20,7]\n",
    "adults = list(filter(funct, ages))\n",
    "print(adults)"
   ]
  },
  {
   "cell_type": "code",
   "execution_count": 19,
   "id": "4a95b244-76e3-4926-9869-3de115b7ef63",
   "metadata": {},
   "outputs": [
    {
     "name": "stdout",
     "output_type": "stream",
     "text": [
      "[90, 12, 34, 20]\n"
     ]
    }
   ],
   "source": [
    "def funct(num):\n",
    "    if (num%2 == 0): return True\n",
    "    else: return False\n",
    "numbs = [11,90, 25,12, 34,20,7]\n",
    "even = list(filter(funct, numbs))\n",
    "print(even)"
   ]
  },
  {
   "cell_type": "code",
   "execution_count": 20,
   "id": "c439f6b7-4cbe-4293-9918-994304a76d6c",
   "metadata": {},
   "outputs": [
    {
     "name": "stdout",
     "output_type": "stream",
     "text": [
      "['deed', 'did', 'MadAm']\n"
     ]
    }
   ],
   "source": [
    "def funct(mystr): \n",
    "    \n",
    "    if (mystr.lower() == mystr[::-1].lower()): \n",
    "        return True\n",
    "    return False\n",
    "palindrome_words = list(filter(funct,['sunday','deed','even','did','MadAm']))\n",
    "print(palindrome_words)"
   ]
  },
  {
   "cell_type": "code",
   "execution_count": 21,
   "id": "1970420e-cba7-413a-87b1-17c7089e71f1",
   "metadata": {},
   "outputs": [
    {
     "name": "stdout",
     "output_type": "stream",
     "text": [
      "[200, 3004, 6008, 42]\n"
     ]
    }
   ],
   "source": [
    "even_numbers = list(filter(lambda num: True if(num % 2 == 0) else False, [200, 3004, 2001, 405, 6008, 42]))\n",
    "print(even_numbers)"
   ]
  },
  {
   "cell_type": "code",
   "execution_count": null,
   "id": "e6b63067-e27c-4698-bc4c-48bfb96991e4",
   "metadata": {},
   "outputs": [],
   "source": []
  },
  {
   "cell_type": "code",
   "execution_count": 23,
   "id": "a2a707f8-be1e-42f1-95a3-f6509ab21a03",
   "metadata": {},
   "outputs": [
    {
     "name": "stdout",
     "output_type": "stream",
     "text": [
      "100 300\n",
      "400 200\n",
      "600 500\n",
      "1100 400\n",
      "1500\n"
     ]
    }
   ],
   "source": [
    "from functools import reduce\n",
    "def funct(first_num, second_num):\n",
    "    print(first_num , second_num)\n",
    "    return first_num + second_num\n",
    "result = reduce(funct, [100,300,200,500,400])\n",
    "print(result)"
   ]
  },
  {
   "cell_type": "code",
   "execution_count": 24,
   "id": "3e0886c4-7570-41c8-a9e5-d3455a6b48f1",
   "metadata": {},
   "outputs": [
    {
     "name": "stdout",
     "output_type": "stream",
     "text": [
      "5000 100\n",
      "5100 300\n",
      "5400 200\n",
      "5600 500\n",
      "6100 400\n",
      "6500\n"
     ]
    }
   ],
   "source": [
    "result = reduce(funct, [100,300,200,500,400],5000)\n",
    "print(result)"
   ]
  },
  {
   "cell_type": "code",
   "execution_count": 25,
   "id": "83e40c0f-fcce-410e-8c5f-8291bb1b84fb",
   "metadata": {},
   "outputs": [
    {
     "name": "stdout",
     "output_type": "stream",
     "text": [
      "500\n"
     ]
    }
   ],
   "source": [
    "from functools import reduce\n",
    "def funct(first_num, second_num):\n",
    "    return first_num if(first_num >= second_num) else second_num\n",
    "result = reduce(funct, [100,300,200,500,400])\n",
    "print(result)"
   ]
  },
  {
   "cell_type": "markdown",
   "id": "cd5c646a-7d20-4803-a621-9851bb432ea5",
   "metadata": {},
   "source": [
    "## Python Zip() Function"
   ]
  },
  {
   "cell_type": "code",
   "execution_count": 26,
   "id": "43be3039-2673-4030-b31f-bdc599cfd58d",
   "metadata": {},
   "outputs": [
    {
     "name": "stdout",
     "output_type": "stream",
     "text": [
      "<zip object at 0x10f326180>\n",
      "[('mango', 400), ('pineapple', 650), ('banana', 200), ('cherry', 500)]\n",
      "(('mango', 400), ('pineapple', 650), ('banana', 200), ('cherry', 500))\n",
      "[('mango', 400), ('pineapple', 650), ('banana', 200), ('cherry', 500)]\n",
      "{'mango': 400, 'pineapple': 650, 'banana': 200, 'cherry': 500}\n"
     ]
    }
   ],
   "source": [
    "fruits = ['mango','pineapple','banana','cherry']\n",
    "quantities = [400, 650, 200, 500]\n",
    "print(zip(fruits,quantities))\n",
    "print(list(zip(fruits,quantities)))\n",
    "print(tuple(zip(fruits,quantities)))\n",
    "print(list(zip(fruits,quantities)))\n",
    "print(dict(zip(fruits,quantities)))"
   ]
  },
  {
   "cell_type": "markdown",
   "id": "28a33270-173e-42a2-b00f-a3d9dfdb3d44",
   "metadata": {},
   "source": [
    "## Cartesian product of list elements"
   ]
  },
  {
   "cell_type": "code",
   "execution_count": 28,
   "id": "97b3033a-8e9d-4902-bc02-94541af92d21",
   "metadata": {},
   "outputs": [
    {
     "name": "stdout",
     "output_type": "stream",
     "text": [
      "<itertools.product object at 0x10f33a580>\n",
      "[('apple', 200), ('apple', 300), ('apple', 100), ('mango', 200), ('mango', 300), ('mango', 100), ('cherry', 200), ('cherry', 300), ('cherry', 100)]\n"
     ]
    }
   ],
   "source": [
    "from itertools import product\n",
    "list1 = ['apple', 'mango', 'cherry']\n",
    "list2 = [200,300,100]\n",
    "print(product(list1,list2))\n",
    "print(list(product(list1, list2)))"
   ]
  },
  {
   "cell_type": "code",
   "execution_count": 31,
   "id": "f523f1a7-200b-434c-819b-86c974778d08",
   "metadata": {},
   "outputs": [
    {
     "name": "stdout",
     "output_type": "stream",
     "text": [
      "4 4\n",
      "2 2\n",
      "2 3\n",
      "6 7\n"
     ]
    }
   ],
   "source": [
    "from bisect import bisect_right\n",
    "from bisect import bisect_left\n",
    "list1 = [11,22,33,44,55,66,77,88]\n",
    "print(bisect_left(list1, 50), bisect_right(list1, 50))\n",
    "print(bisect_left(list1, 30), bisect_right(list1, 30))\n",
    "print(bisect_left(list1, 33), bisect_right(list1, 33))\n",
    "print(bisect_left(list1, 77), bisect_right(list1, 77))"
   ]
  },
  {
   "cell_type": "code",
   "execution_count": 33,
   "id": "ae8e3b5a-cabf-4829-b649-2dc3570948fa",
   "metadata": {},
   "outputs": [
    {
     "name": "stdout",
     "output_type": "stream",
     "text": [
      "100\n",
      "False\n",
      "[11, 22, 33]\n",
      "56.78\n",
      "(400, 500)\n",
      "100\n",
      "False\n",
      "[11, 22, 33]\n"
     ]
    }
   ],
   "source": [
    "import itertools\n",
    "var1 = itertools.cycle([100,False, [11,22,33], 56.78, (400,500)])\n",
    "print(next(var1))\n",
    "print(next(var1))\n",
    "print(next(var1))\n",
    "print(next(var1))\n",
    "print(next(var1))\n",
    "print(next(var1))\n",
    "print(next(var1))\n",
    "print(next(var1))"
   ]
  },
  {
   "cell_type": "code",
   "execution_count": null,
   "id": "5e7f372a-ee33-4ea4-b141-aded40748344",
   "metadata": {},
   "outputs": [],
   "source": []
  },
  {
   "cell_type": "code",
   "execution_count": 37,
   "id": "65d49e4e-b280-44ec-b38c-e901ad2cc0f5",
   "metadata": {},
   "outputs": [
    {
     "name": "stdout",
     "output_type": "stream",
     "text": [
      "[0, 1, 4, 9, 16, 25, 36, 49, 64, 81]\n",
      "[0, 1, 4, 9, 16, 25, 36, 49, 64, 81]\n"
     ]
    }
   ],
   "source": [
    "list1 =[]\n",
    "for x in range(10):\n",
    "    list1.append(x**2)\n",
    "print(list1)\n",
    "\n",
    "list1 = [x**2 for x in range(10)]\n",
    "print(list1)"
   ]
  },
  {
   "cell_type": "code",
   "execution_count": 35,
   "id": "5ef34528-3367-4114-ae59-713c72525c81",
   "metadata": {},
   "outputs": [
    {
     "name": "stdout",
     "output_type": "stream",
     "text": [
      "[512, 512, 512, 512, 512, 512, 512, 512, 512, 512]\n",
      "[1, 2, 4, 8, 16, 32, 64, 128, 256, 512]\n"
     ]
    }
   ],
   "source": [
    "list1 = []\n",
    "for power in range(10):\n",
    "    list1.append(2 ** x)\n",
    "print(list1)\n",
    "\n",
    "list1 = [2 ** x for x in range(10)]\n",
    "print(list1)"
   ]
  },
  {
   "cell_type": "code",
   "execution_count": 38,
   "id": "16866891-b2c9-488e-9104-89d891a699cc",
   "metadata": {},
   "outputs": [
    {
     "name": "stdout",
     "output_type": "stream",
     "text": [
      "[2, 4, 6, 8, 10]\n",
      "[2, 4, 6, 8, 10]\n"
     ]
    }
   ],
   "source": [
    "list1 = [1,2,3,4,5,6,7,8,9,10]\n",
    "list2 = []\n",
    "for x in list1:\n",
    "    if (x % 2 ==0 ):\n",
    "        list2.append(x)\n",
    "print(list2)\n",
    "\n",
    "list2 = [x for x in list1 if x % 2 == 0 ]\n",
    "print(list2)"
   ]
  },
  {
   "cell_type": "code",
   "execution_count": 44,
   "id": "1963681c-c809-47cb-8219-8c9e1ac752f6",
   "metadata": {},
   "outputs": [
    {
     "name": "stdout",
     "output_type": "stream",
     "text": [
      "[12, 18, 24]\n",
      "[12, 18, 24]\n",
      "[12, 18, 24]\n"
     ]
    }
   ],
   "source": [
    "list1 = [11, 12, 13, 14, 15, 16, 17, 18, 19, 20, 24]\n",
    "list2 = []\n",
    "for x in list1:\n",
    "    if (x % 2 == 0):\n",
    "        if (x % 3 == 0):\n",
    "            list2.append(x)\n",
    "print(list2)\n",
    "\n",
    "# list comprehension\n",
    "list2 = [x for x in list1 if x % 2 == 0 if x % 3 == 0 ]\n",
    "print(list2)\n",
    "\n",
    "list2 = [x for x in list1 if x % 2 == 0 and x % 3 == 0 ]\n",
    "print(list2)"
   ]
  },
  {
   "cell_type": "code",
   "execution_count": 47,
   "id": "d313ae4c-4d2b-4f7d-a761-bbae285fb58d",
   "metadata": {},
   "outputs": [
    {
     "name": "stdout",
     "output_type": "stream",
     "text": [
      "[12, 18, 24]\n",
      "[]\n"
     ]
    }
   ],
   "source": [
    "list1 = [11,22,33,44,55,66,77,88]\n",
    "list1 = []\n",
    "for x in list1:\n",
    "    if (x >= 44):\n",
    "        list2.append(x + 100)\n",
    "    else:\n",
    "        list2.append(x + 500)\n",
    "print(list2)  \n",
    "\n",
    "# list comprehension\n",
    "list2 = [x + 100 if (x >= 44) else x + 500 for x in list1]\n",
    "print(list2)"
   ]
  },
  {
   "cell_type": "code",
   "execution_count": 48,
   "id": "be7ce832-6dc9-4d1b-9d5d-af59a74856da",
   "metadata": {},
   "outputs": [
    {
     "name": "stdout",
     "output_type": "stream",
     "text": [
      "[11, 22, 33, 44, 555, 66, 77, 88, 99]\n",
      "[11, 22, 33, 44, 555, 66, 77, 88, 99]\n"
     ]
    }
   ],
   "source": [
    "list1 = [[11,22,33],[44,555,66],[77,88,99]]\n",
    "list2 = []\n",
    "for temp_list in list1:\n",
    "    for item in temp_list:\n",
    "        list2.append(item)\n",
    "print(list2)\n",
    "\n",
    "# list comprehension\n",
    "list2 = [item for temp_list in list1 for item in temp_list]\n",
    "print(list2)"
   ]
  },
  {
   "cell_type": "code",
   "execution_count": 51,
   "id": "b68050a8-b452-4238-b2f8-d8e4cf0fec3b",
   "metadata": {},
   "outputs": [
    {
     "name": "stdout",
     "output_type": "stream",
     "text": [
      "[[11, 22, 33], [44, 55, 66], [77, 88, 99]]\n",
      "[[11, 22, 33], [44, 55, 66], [77, 88, 99]]\n",
      "[[11, 44, 77], [22, 55, 88], [33, 66, 99]]\n"
     ]
    }
   ],
   "source": [
    "matrix = [[11,22,33],[44,55,66],[77,88,99]]\n",
    "list1 = []\n",
    "for i in range(3):\n",
    "    temp_list = []\n",
    "    for j in range(3):\n",
    "        temp_list.append(matrix[i][j])\n",
    "    list1.append(temp_list)\n",
    "print(list1)\n",
    "\n",
    "# nested list comprehension, transpose of the matrix\n",
    "list1 = [[matrix[i][j] for j in range(3)] for i in range(3)]\n",
    "print(list1)\n",
    "list1 = [[temp_list[i] for temp_list in matrix] for i in range(3)]\n",
    "print(list1)\n"
   ]
  },
  {
   "cell_type": "code",
   "execution_count": 57,
   "id": "707a994c-ebd4-4225-a7da-280c869bb04d",
   "metadata": {},
   "outputs": [
    {
     "name": "stdout",
     "output_type": "stream",
     "text": [
      "[[0, 0, 0, 0, 0], [0, 0, 0, 0, 0], [0, 0, 0, 0, 0]]\n",
      "[[0, 0, 0, 0, 0], [0, 0, 0, 0, 0], [0, 0, 0, 0, 0]]\n"
     ]
    }
   ],
   "source": [
    "list1 = []\n",
    "for x in range(3):\n",
    "    temp_list = []\n",
    "    for y in range(5):\n",
    "        temp_list.append(0)\n",
    "    list1.append(temp_list)\n",
    "print(list1)\n",
    "\n",
    "# list comprehension\n",
    "list2= [[temp_list for y in range(5)] for x in range(3)]\n",
    "print(list1)"
   ]
  },
  {
   "cell_type": "code",
   "execution_count": null,
   "id": "b8b4b7e3-74f6-461d-bb87-100d6f934e86",
   "metadata": {},
   "outputs": [],
   "source": [
    "list1 = []\n",
    "for x in range(4):\n",
    "    temp_list = []\n",
    "    for y in range(x):\n",
    "        temp_list.append(0)\n",
    "    list1.append(temp_list)\n",
    "print(list1) \n",
    "\n",
    "\n",
    "        "
   ]
  },
  {
   "cell_type": "code",
   "execution_count": null,
   "id": "c716fb69-879d-48f2-bbc7-f7a0e4500ad0",
   "metadata": {},
   "outputs": [],
   "source": [
    "#using lambda"
   ]
  },
  {
   "cell_type": "code",
   "execution_count": 58,
   "id": "fb25f5da-4513-4def-9b5d-e57f249eee9c",
   "metadata": {},
   "outputs": [
    {
     "name": "stdout",
     "output_type": "stream",
     "text": [
      "[11, 33, 55, 77]\n",
      "[11, 33, 55, 77]\n"
     ]
    }
   ],
   "source": [
    "#using filter function\n",
    "list1 = [11,22,33,44,55,66,77,88]\n",
    "oddnum = list(filter(lambda x: x%2,list1))\n",
    "print(oddnum)\n",
    "\n",
    "# list comprehension\n",
    "oddnum = [x for x in list1 if x%2 ==1]\n",
    "print(oddnum)"
   ]
  },
  {
   "cell_type": "code",
   "execution_count": 59,
   "id": "ad7fb2dc-89d1-43bb-9061-9c2d52c7d783",
   "metadata": {},
   "outputs": [
    {
     "name": "stdout",
     "output_type": "stream",
     "text": [
      "396\n",
      "396\n"
     ]
    }
   ],
   "source": [
    "# using reduce function\n",
    "from functools import reduce\n",
    "list1 = [11, 22, 33, 44, 55, 66, 77, 88]\n",
    "result = reduce(lambda x, y: x + y, list1)\n",
    "print(result)\n",
    "\n",
    "# list comprehension\n",
    "result = sum([x for x in list1])\n",
    "print(result)"
   ]
  },
  {
   "cell_type": "code",
   "execution_count": null,
   "id": "744085c2-aff0-4ffd-bb57-422cd44f6e4a",
   "metadata": {},
   "outputs": [],
   "source": []
  }
 ],
 "metadata": {
  "kernelspec": {
   "display_name": "Python 3 (ipykernel)",
   "language": "python",
   "name": "python3"
  },
  "language_info": {
   "codemirror_mode": {
    "name": "ipython",
    "version": 3
   },
   "file_extension": ".py",
   "mimetype": "text/x-python",
   "name": "python",
   "nbconvert_exporter": "python",
   "pygments_lexer": "ipython3",
   "version": "3.11.7"
  }
 },
 "nbformat": 4,
 "nbformat_minor": 5
}
