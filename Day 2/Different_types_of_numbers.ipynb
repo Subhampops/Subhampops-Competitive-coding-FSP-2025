{
 "cells": [
  {
   "cell_type": "code",
   "execution_count": null,
   "id": "37e37aa8-9188-426e-bdf3-e77eb30978c8",
   "metadata": {},
   "outputs": [],
   "source": [
    "1. Number Theory & Mathematical Problems\n",
    "Krishnamurthy Number\n",
    "📌 Problem Statement: A number is a Krishnamurthy number if the sum of the factorials of its digits equals the number itself.\n",
    "✅ Example 1: 145 → (1! + 4! + 5!) = 145\n",
    "✅ Example 2: 40585 → (4! + 0! + 5! + 8! + 5!) = 40585\n",
    "\n"
   ]
  },
  {
   "cell_type": "code",
   "execution_count": 9,
   "id": "d071b571-b99b-4572-8d08-a01d83500225",
   "metadata": {},
   "outputs": [
    {
     "name": "stdin",
     "output_type": "stream",
     "text": [
      "Please enter a number:  145\n"
     ]
    },
    {
     "name": "stdout",
     "output_type": "stream",
     "text": [
      " 145 is a Krishnamurty Number\n"
     ]
    }
   ],
   "source": [
    "import math\n",
    "n = int(input(\"Please enter a number: \"))\n",
    "ori = n\n",
    "sum_digit = 0\n",
    "while n > 0:\n",
    "        d = n % 10\n",
    "        sum_digit += math.factorial(d)\n",
    "        n //= 10\n",
    "\n",
    "if (sum_digit == ori):\n",
    "   print(f\" {ori} is a Krishnamurty Number\")\n",
    "else:\n",
    "   print(f\" {ori} is not a Krishnamurty Number\")"
   ]
  },
  {
   "cell_type": "code",
   "execution_count": 11,
   "id": "94dcf457-f800-411c-9411-5efa6e897047",
   "metadata": {},
   "outputs": [
    {
     "name": "stdout",
     "output_type": "stream",
     "text": [
      "1 is a Krishnamurthy Number...\n",
      "2 is a Krishnamurthy Number...\n",
      "145 is a Krishnamurthy Number...\n",
      "40585 is a Krishnamurthy Number...\n",
      "End of the program...\n"
     ]
    }
   ],
   "source": [
    "import math\n",
    "for num in range(1, 500000):\n",
    "    total = sum([math.factorial(int(digit)) for digit in str(num)])\n",
    "    if (num == total): print(f\"{num} is a Krishnamurthy Number...\")\n",
    "    # else: print(f\"{num} is NOT a Krishnamurthy Number...\")\n",
    "print(\"End of the program...\")"
   ]
  },
  {
   "cell_type": "code",
   "execution_count": 10,
   "id": "41fdac90-2c6f-47a5-946f-504809371095",
   "metadata": {},
   "outputs": [
    {
     "ename": "IndentationError",
     "evalue": "expected an indented block after 'for' statement on line 2 (2851340702.py, line 3)",
     "output_type": "error",
     "traceback": [
      "\u001b[0;36m  Cell \u001b[0;32mIn[10], line 3\u001b[0;36m\u001b[0m\n\u001b[0;31m    ori = n\u001b[0m\n\u001b[0m    ^\u001b[0m\n\u001b[0;31mIndentationError\u001b[0m\u001b[0;31m:\u001b[0m expected an indented block after 'for' statement on line 2\n"
     ]
    }
   ],
   "source": [
    "import math\n",
    "for n in range(1,5000000):\n",
    "ori = n\n",
    "sum_digit = 0\n",
    "while n > 0:\n",
    "        d = n % 10\n",
    "        sum_digit += math.factorial(d)\n",
    "        n //= 10\n",
    "\n",
    "if (sum_digit == ori):\n",
    "   print(f\" {ori} is a Krishnamurty Number\")"
   ]
  },
  {
   "cell_type": "code",
   "execution_count": null,
   "id": "85e69b01-cb78-4e84-8634-e1d265bf3714",
   "metadata": {},
   "outputs": [],
   "source": [
    "1. Madam Number (Palindrome Number)\n",
    "📌 Problem Statement: A number is a Madam number if it remains the same when reversed.\n",
    "✅ Example 1: 121 → Reverse = 121 ✅\n",
    "✅ Example 2: 1331 → Reverse = 1331 ✅"
   ]
  },
  {
   "cell_type": "code",
   "execution_count": null,
   "id": "ef9c6a24-83f1-4a04-9010-736877e2ef46",
   "metadata": {},
   "outputs": [],
   "source": [
    "mstr = \"university\"\n",
    "print(mystr,mystr[::-1])      "
   ]
  },
  {
   "cell_type": "code",
   "execution_count": 13,
   "id": "0b021fc0-dd99-4250-9057-92e1aaa49dd8",
   "metadata": {},
   "outputs": [
    {
     "name": "stdin",
     "output_type": "stream",
     "text": [
      "Please enter one integer number:  12321\n"
     ]
    },
    {
     "name": "stdout",
     "output_type": "stream",
     "text": [
      "12321 is a Madam Number...\n",
      "End of the program...\n"
     ]
    }
   ],
   "source": [
    "num = input(\"Please enter one integer number: \")\n",
    "if (num == num[::-1]):\n",
    "    print(f\"{num} is a Madam Number...\")\n",
    "else:\n",
    "    print(f\"{num} is NOT a Madam Number...\")\n",
    "print(\"End of the program...\")"
   ]
  },
  {
   "cell_type": "code",
   "execution_count": null,
   "id": "707bc147-3a3a-46f1-8e57-138477eae9de",
   "metadata": {},
   "outputs": [],
   "source": [
    "Armstrong Number\n",
    "📌 Problem Statement: A number is Armstrong if the sum of its digits raised to the power of its length equals the number.\n",
    "✅ Example 1: 153 → (1³ + 5³ + 3³) = 153\n",
    "✅ Example 2: 9474 → (9⁴ + 4⁴ + 7⁴ + 4⁴) = 9474"
   ]
  },
  {
   "cell_type": "code",
   "execution_count": 16,
   "id": "c0c0c8cd-e8f3-4c0b-8494-2b7c6e65ea26",
   "metadata": {},
   "outputs": [
    {
     "name": "stdout",
     "output_type": "stream",
     "text": [
      "   1,    2,    3,    4,    5,    6,    7,    8,    9,  153,  370,  371,  407, 1634, 8208, 9474, \n",
      "End of the program...\n"
     ]
    }
   ],
   "source": [
    "for num in range(1, 10001):\n",
    "    num_of_digits = len(str(num))\n",
    "    total = sum([int(digit) ** num_of_digits for digit in str(num)])\n",
    "    if (total == num): print(\"%4d\"%(num), end = \", \")\n",
    "print(\"\\nEnd of the program...\")"
   ]
  },
  {
   "cell_type": "code",
   "execution_count": null,
   "id": "20c0d5fc-445e-4211-a510-78ece94acec7",
   "metadata": {},
   "outputs": [],
   "source": [
    "Perfect Number\n",
    "📌 Problem Statement: A number is perfect if the sum of its proper divisors equals the number.\n",
    "✅ Example 1: 6 → (1 + 2 + 3) = 6\n",
    "✅ Example 2: 28 → (1 + 2 + 4 + 7 + 14) = 28"
   ]
  },
  {
   "cell_type": "code",
   "execution_count": 24,
   "id": "c4444fa1-8298-4843-b174-9b4165ca2839",
   "metadata": {},
   "outputs": [
    {
     "name": "stdout",
     "output_type": "stream",
     "text": [
      "\n",
      "End of the program...\n"
     ]
    }
   ],
   "source": [
    "for num in range(2, 10001):\n",
    "    total = 0\n",
    "    for factor in range(n):\n",
    "        if(num % factor == 0):\n",
    "            total = total + factor\n",
    "\n",
    "    if (total == num):\n",
    "        print(f\" {num} is a Perfect Number\")\n",
    "print(\"\\nEnd of the program...\")"
   ]
  },
  {
   "cell_type": "code",
   "execution_count": null,
   "id": "537ba9bf-a6bc-4ac1-986e-177d73a41c76",
   "metadata": {},
   "outputs": [],
   "source": []
  },
  {
   "cell_type": "code",
   "execution_count": null,
   "id": "3fa886d6-6d45-48d6-a848-12c255b442b4",
   "metadata": {},
   "outputs": [],
   "source": []
  },
  {
   "cell_type": "code",
   "execution_count": null,
   "id": "151f2575-2ea3-424c-a47a-e0f43c25a461",
   "metadata": {},
   "outputs": [],
   "source": []
  },
  {
   "cell_type": "code",
   "execution_count": null,
   "id": "c6696bcf-06b2-432a-9a97-82a153aff128",
   "metadata": {},
   "outputs": [],
   "source": []
  },
  {
   "cell_type": "code",
   "execution_count": null,
   "id": "714a0bdc-7e2e-4506-9691-e44b3982f10c",
   "metadata": {},
   "outputs": [],
   "source": []
  },
  {
   "cell_type": "code",
   "execution_count": null,
   "id": "26a9f4b8-66d6-4fa5-8aff-24280ad4b501",
   "metadata": {},
   "outputs": [],
   "source": []
  }
 ],
 "metadata": {
  "kernelspec": {
   "display_name": "Python 3 (ipykernel)",
   "language": "python",
   "name": "python3"
  },
  "language_info": {
   "codemirror_mode": {
    "name": "ipython",
    "version": 3
   },
   "file_extension": ".py",
   "mimetype": "text/x-python",
   "name": "python",
   "nbconvert_exporter": "python",
   "pygments_lexer": "ipython3",
   "version": "3.11.7"
  }
 },
 "nbformat": 4,
 "nbformat_minor": 5
}
