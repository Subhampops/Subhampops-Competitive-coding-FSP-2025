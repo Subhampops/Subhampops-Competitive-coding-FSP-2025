{
 "cells": [
  {
   "cell_type": "code",
   "execution_count": null,
   "id": "59055b89-9969-4896-9c35-422cedb575ce",
   "metadata": {},
   "outputs": [],
   "source": [
    "#Problems related to Pattern"
   ]
  },
  {
   "cell_type": "code",
   "execution_count": null,
   "id": "1466461c-2e09-4ddb-ae6a-e9c7e8e1df98",
   "metadata": {},
   "outputs": [],
   "source": [
    "# Pattern problem - 1\n",
    "n = 6           i   .   *\n",
    "              -------------\n",
    ".....*          1   5   1      (i, n)\n",
    "....***         2   4   3 . => (n - i)\n",
    "...*****        3   3   5\n",
    "..*******       4   2   7 * => (2 * i - 1)\n",
    ".*********      5   1   9\n",
    "***********     6   0  11\n",
    "              -------------"
   ]
  },
  {
   "cell_type": "code",
   "execution_count": 1,
   "id": "4ae0280f-2517-409e-94f8-e5b75791ca1c",
   "metadata": {},
   "outputs": [
    {
     "name": "stdin",
     "output_type": "stream",
     "text": [
      "Please enter the number of layers:  4\n"
     ]
    },
    {
     "name": "stdout",
     "output_type": "stream",
     "text": [
      "...*\n",
      "..***\n",
      ".*****\n",
      "*******\n",
      "End of the program...\n"
     ]
    }
   ],
   "source": [
    "n = int(input(\"Please enter the number of layers: \"))\n",
    "for i in range(1, n + 1):\n",
    "    print(\".\" * (n - i) + \"*\" * (2 * i - 1))\n",
    "print(\"End of the program...\")"
   ]
  },
  {
   "cell_type": "code",
   "execution_count": null,
   "id": "ac170e85-7241-47b7-babc-8e895a953214",
   "metadata": {},
   "outputs": [],
   "source": [
    "# Pattern problem - 2\n",
    "n = 6           i   .   *\n",
    "              -------------\n",
    "***********     1   0  11      (i, n)\n",
    ".*********      2   1   9 . => (i-1)\n",
    "..*******       3   2   7\n",
    "...*****        4   3   5 * => (2 * (n - i)+1)\n",
    "....***         5   4   3\n",
    ".....*          6   5   1\n",
    "              -------------"
   ]
  },
  {
   "cell_type": "code",
   "execution_count": 8,
   "id": "89dd5760-2e4d-47af-a3d7-9274d0ceb8a0",
   "metadata": {},
   "outputs": [
    {
     "name": "stdin",
     "output_type": "stream",
     "text": [
      "Please enter the number of layers:  4\n"
     ]
    },
    {
     "name": "stdout",
     "output_type": "stream",
     "text": [
      "*******\n",
      ".*****\n",
      "..***\n",
      "...*\n",
      "End of the program...\n"
     ]
    }
   ],
   "source": [
    "n = int(input(\"Please enter the number of layers: \"))\n",
    "for i in range(1, n + 1):\n",
    "    print(\".\" * (i-1) + \"*\" * (2 * (n - i)+1))\n",
    "print(\"End of the program...\")"
   ]
  },
  {
   "cell_type": "code",
   "execution_count": null,
   "id": "2bde7f77-0267-4fb2-99b4-0f8855a3d7dc",
   "metadata": {},
   "outputs": [],
   "source": [
    "# Pattern problem - 3\n",
    "n = 11 (ODD)    i   .   *   m = (n + 1) // 2 = 6\n",
    "              -------------\n",
    ".....*          1   5   1      (i, n, m)\n",
    "....***         2   4   3 . => (m - i)\n",
    "...*****        3   3   5\n",
    "..*******       4   2   7 * => (2 * i - 1)\n",
    ".*********      5   1   9\n",
    "***********   __6___0__11__\n",
    ".*********      7   1   9\n",
    "..*******       8   2   7 . => (i - m)\n",
    "...*****        9   3   5\n",
    "....***        10   4   3 * => (2 * (n - i) + 1)\n",
    ".....*         11   5   1\n",
    "              -------------"
   ]
  },
  {
   "cell_type": "code",
   "execution_count": 9,
   "id": "6aa4227a-b869-4d64-9008-3639b28ff051",
   "metadata": {},
   "outputs": [
    {
     "name": "stdin",
     "output_type": "stream",
     "text": [
      "Please enter the ODD number of layers:  5\n"
     ]
    },
    {
     "name": "stdout",
     "output_type": "stream",
     "text": [
      "..*\n",
      ".***\n",
      "*****\n",
      ".***\n",
      "..*\n",
      "End of the program...\n"
     ]
    }
   ],
   "source": [
    "while(True):\n",
    "    n = int(input(\"Please enter the ODD number of layers: \"))\n",
    "    if (n % 2 == 1): break\n",
    "m = (n + 1) // 2\n",
    "for i in range(1, n + 1):\n",
    "    if (i <= m): b = (m - i); s = (2 * i - 1)\n",
    "    else: b = (i - m); s = (2 * (n - i) + 1)\n",
    "    print(\".\" * b + \"*\" * s)\n",
    "print(\"End of the program...\")"
   ]
  },
  {
   "cell_type": "code",
   "execution_count": null,
   "id": "fb5e4181-43ee-4a6a-8f58-71f68d07c36f",
   "metadata": {},
   "outputs": [],
   "source": [
    "# Pattern problem - 4\n",
    "n = 11 (ODD)    i   .   *   m = (n + 1) // 2 = 6\n",
    "              -------------\n",
    "***********     1   0  11      (i, n, m)\n",
    ".*********      2   1   9 . => (i-1)\n",
    "..*******       3   2   7\n",
    "...*****        4   3   5 * => (2 * (m - i) + 1)\n",
    "....***         5   4   3\n",
    ".....*        __6___5___1__\n",
    "....***         7   4   3\n",
    "...*****        8   3   5 . => (n - i)\n",
    "..*******       9   2   7\n",
    ".*********     10   1   9 * => (2*(i - m) + 1)\n",
    "***********    11   0  11\n",
    "              -------------"
   ]
  },
  {
   "cell_type": "code",
   "execution_count": 11,
   "id": "ff6ef0de-4189-4fc4-bca8-87710420b71a",
   "metadata": {},
   "outputs": [
    {
     "name": "stdin",
     "output_type": "stream",
     "text": [
      "Please enter the ODD number of layers:  8\n",
      "Please enter the ODD number of layers:  13\n"
     ]
    },
    {
     "name": "stdout",
     "output_type": "stream",
     "text": [
      "*************\n",
      ".***********\n",
      "..*********\n",
      "...*******\n",
      "....*****\n",
      ".....***\n",
      "......*\n",
      ".....***\n",
      "....*****\n",
      "...*******\n",
      "..*********\n",
      ".***********\n",
      "*************\n",
      "End of the program...\n"
     ]
    }
   ],
   "source": [
    "while(True):\n",
    "    n = int(input(\"Please enter the ODD number of layers: \"))\n",
    "    if (n % 2 == 1): break\n",
    "m = (n + 1) // 2\n",
    "for i in range(1, n + 1):\n",
    "    if (i <= m): b = (i-1); s = (2 * (m - i) + 1)\n",
    "    else: b = (n - i); s = (2*(i - m) + 1)\n",
    "    print(\".\" * b + \"*\" * s)\n",
    "print(\"End of the program...\")"
   ]
  },
  {
   "cell_type": "code",
   "execution_count": null,
   "id": "17b38baa-7612-4870-a314-68c4412226e2",
   "metadata": {},
   "outputs": [],
   "source": [
    "# Pattern problem - 5\n",
    "n = 6           i   .   *\n",
    "              -------------\n",
    ".....A          1   5   1      (i, n)\n",
    "....BBB         2   4   3 . => (n - i)\n",
    "...CCCCC        3   3   5\n",
    "..DDDDDDD       4   2   7 * => (2 * i - 1)\n",
    ".EEEEEEEEE      5   1   9\n",
    "FFFFFFFFFFF     6   0  11\n",
    "              -------------"
   ]
  },
  {
   "cell_type": "code",
   "execution_count": 13,
   "id": "e440a088-9cb8-4d82-a461-0635c638012f",
   "metadata": {},
   "outputs": [
    {
     "name": "stdin",
     "output_type": "stream",
     "text": [
      "Please enter the number of layers:  4\n"
     ]
    },
    {
     "name": "stdout",
     "output_type": "stream",
     "text": [
      "...A\n",
      "..BBB\n",
      ".CCCCC\n",
      "DDDDDDD\n",
      "End of the program...\n"
     ]
    }
   ],
   "source": [
    "n = int(input(\"Please enter the number of layers: \"))\n",
    "for i in range(1, n + 1):\n",
    "    print(\".\" * (n - i) + chr(64+i) * (2 * i - 1))\n",
    "print(\"End of the program...\")"
   ]
  },
  {
   "cell_type": "code",
   "execution_count": null,
   "id": "ded05e49-aeb9-45a8-b6cd-471918f731fe",
   "metadata": {},
   "outputs": [],
   "source": [
    "# Pattern problem - 6\n",
    "n = 11 (ODD)    i  .1  .2   m = (n + 1) // 2 = 6\n",
    "              -------------\n",
    ".....*          1   5   NA      (i, n, m)\n",
    "....*.*         2   4   1 .1 => (m - i)\n",
    "...*...*        3   3   3\n",
    "..*.....*       4   2   5 .2 => (2 * i - 3)\n",
    ".*.......*      5   1   7\n",
    "*.........*   __6___0__ 9__\n",
    ".*.......*      7   1   7\n",
    "..*.....*       8   2   5 .1 => (i - m)\n",
    "...*...*        9   3   3\n",
    "....*.*        10   4   1 .2 => (2 * (n - i) + 1)\n",
    ".....*         11   5   NA\n",
    "              -------------"
   ]
  },
  {
   "cell_type": "code",
   "execution_count": 14,
   "id": "97092b87-f672-4bce-b7c9-5c63e048e00e",
   "metadata": {},
   "outputs": [
    {
     "name": "stdin",
     "output_type": "stream",
     "text": [
      "Please enter the ODD number of layers:  7\n"
     ]
    },
    {
     "name": "stdout",
     "output_type": "stream",
     "text": [
      "...*\n",
      "..*.*\n",
      ".*...*\n",
      "*.....*\n",
      ".*...*\n",
      "..*.*\n",
      "...*\n",
      "End of the program...\n"
     ]
    }
   ],
   "source": [
    "while(True):\n",
    "    n = int(input(\"Please enter the ODD number of layers: \"))\n",
    "    if (n % 2 == 1): break\n",
    "m = (n + 1) // 2\n",
    "for i in range(1, n + 1):\n",
    "    if (i <= m): b1 = (m - i); b2 = (2 * i - 3)\n",
    "    else: b1 = (i - m); b2 = (2 * (n - i) - 1)\n",
    "    print(\".\" * b1 + \"*\", end = \"\")\n",
    "    if (i != 1 and i != n):\n",
    "        print(\".\" * b2 + \"*\")\n",
    "    else:\n",
    "        print()\n",
    "print(\"End of the program...\")"
   ]
  },
  {
   "cell_type": "code",
   "execution_count": null,
   "id": "d546156e-e691-4e95-8311-1cfdd9f081f4",
   "metadata": {},
   "outputs": [],
   "source": [
    "n = 9 (ODD)  m = (n + 1) // 2 = 5\n",
    "\n",
    "      1  2  3  4  5  6  7  8  9        i  ll  ul\n",
    "---------------------------------    -------------\n",
    "1  |  1  1  1  1  1  1  1  1  1        1   1   9        (n, i)\n",
    "2  |  1  2  2  2  2  2  2  2  1        2   2   8  ll => i\n",
    "3  |  1  2  3  3  3  3  3  2  1        3   3   7  ul => (n - i + 1)\n",
    "4  |  1  2  3  4  4  4  3  2  1        4   4   6\n",
    "5  |  1  2  3  4  5  4  3  2  1      __5___5___5__\n",
    "6  |  1  2  3  4  4  4  3  2  1        6   4   6\n",
    "7  |  1  2  3  3  3  3  3  2  1        7   3   7  ll => (n - i + 1)\n",
    "8  |  1  2  2  2  2  2  2  2  1        8   2   8  ul => i\n",
    "9  |  1  1  1  1  1  1  1  1  1        9   1   9\n",
    "---------------------------------    -------------"
   ]
  },
  {
   "cell_type": "code",
   "execution_count": 1,
   "id": "2587329b-1944-47a9-a844-a95131085e6b",
   "metadata": {},
   "outputs": [
    {
     "name": "stdin",
     "output_type": "stream",
     "text": [
      "Please enter the ODD number of layers:  13\n"
     ]
    },
    {
     "name": "stdout",
     "output_type": "stream",
     "text": [
      "   1   1   1   1   1   1   1   1   1   1   1   1   1\n",
      "   1   2   2   2   2   2   2   2   2   2   2   2   1\n",
      "   1   2   3   3   3   3   3   3   3   3   3   2   1\n",
      "   1   2   3   4   4   4   4   4   4   4   3   2   1\n",
      "   1   2   3   4   5   5   5   5   5   4   3   2   1\n",
      "   1   2   3   4   5   6   6   6   5   4   3   2   1\n",
      "   1   2   3   4   5   6   7   6   5   4   3   2   1\n",
      "   1   2   3   4   5   6   6   6   5   4   3   2   1\n",
      "   1   2   3   4   5   5   5   5   5   4   3   2   1\n",
      "   1   2   3   4   4   4   4   4   4   4   3   2   1\n",
      "   1   2   3   3   3   3   3   3   3   3   3   2   1\n",
      "   1   2   2   2   2   2   2   2   2   2   2   2   1\n",
      "   1   1   1   1   1   1   1   1   1   1   1   1   1\n",
      "End of the program...\n"
     ]
    }
   ],
   "source": [
    "while (True):\n",
    "    n = int(input(\"Please enter the ODD number of layers: \"))\n",
    "    if (n % 2 == 1): break\n",
    "m = (n + 1) // 2\n",
    "for row in range(1, n + 1):\n",
    "    if (row <= m): ll = row; ul = (n - row + 1)\n",
    "    else: ll = (n - row + 1); ul = row\n",
    "    term = 1\n",
    "    for col in range(1, n + 1):\n",
    "        print(\"%4d\"%(term), end = \"\")\n",
    "        if (col < ll): term = term + 1\n",
    "        if (col >= ul): term = term - 1\n",
    "    print()\n",
    "print(\"End of the program...\")"
   ]
  },
  {
   "cell_type": "code",
   "execution_count": null,
   "id": "66d3a824-e6ac-4a70-a9b9-4e40cae6153e",
   "metadata": {},
   "outputs": [],
   "source": [
    "#non-recursive factorial calculation function\n",
    "def factorial_nr(num)\n",
    "    if (num == 0 or num == 1):\n",
    "        return 1\n",
    "    fact = 1\n",
    "    for i in range(1, num + 1):\n",
    "        print(\"Looping ffor i =\", i)\n",
    "        fact *= i\n",
    "    return fact\n",
    "\n",
    "print(factorial_r(5))\n",
    "    "
   ]
  },
  {
   "cell_type": "code",
   "execution_count": 1,
   "id": "bc38fa0e-c346-47ec-994b-8961ef0cd9e5",
   "metadata": {},
   "outputs": [
    {
     "name": "stdout",
     "output_type": "stream",
     "text": [
      "Looping for i = 2\n",
      "Looping for i = 3\n",
      "Looping for i = 4\n",
      "120\n"
     ]
    }
   ],
   "source": [
    "# non-recursive factorial calculation function\n",
    "def factorial_nr(num):\n",
    "    if (num == 0 or num == 1):\n",
    "        return 1\n",
    "    fact = num\n",
    "    for i in range(2, num):\n",
    "        print(\"Looping for i =\", i)\n",
    "        fact *= i\n",
    "    return fact\n",
    "\n",
    "# print(factorial_nr(1))\n",
    "# print(factorial_nr(4))\n",
    "print(factorial_nr(5))"
   ]
  },
  {
   "cell_type": "code",
   "execution_count": 2,
   "id": "5954fe91-8b2f-42d9-83f9-dd38d3471ed9",
   "metadata": {},
   "outputs": [
    {
     "name": "stdout",
     "output_type": "stream",
     "text": [
      "120\n"
     ]
    }
   ],
   "source": [
    "# recursive factorial calculation function\n",
    "def factorial_r(num):\n",
    "    if (num == 0 or num == 1):  # base case\n",
    "        return 1\n",
    "    return num * factorial_r(num - 1)  # recursive case\n",
    "\n",
    "# print(factorial_nr(1))\n",
    "# print(factorial_nr(4))\n",
    "print(factorial_r(5))"
   ]
  },
  {
   "cell_type": "code",
   "execution_count": null,
   "id": "0985fa5e-3efc-4b0d-acd8-ff7b5170a97a",
   "metadata": {},
   "outputs": [],
   "source": [
    "5! =  5 * 4!\n",
    "          4 * 3!\n",
    "              3 * 2!\n",
    "                  2 * 1!\n",
    "                      1\n",
    "                  2\n",
    "              6\n",
    "          24\n",
    "       120"
   ]
  },
  {
   "cell_type": "code",
   "execution_count": 3,
   "id": "df78c780-2c4a-42bb-9ff6-f24603acf4de",
   "metadata": {},
   "outputs": [
    {
     "name": "stdout",
     "output_type": "stream",
     "text": [
      "24\n",
      "120\n",
      "720\n"
     ]
    }
   ],
   "source": [
    "# recursive factorial calculation lambda function\n",
    "factorial_lr = lambda num: 1 if (num == 0 or num == 1) else num * factorial_lr(num - 1)\n",
    "print(factorial_lr(4))\n",
    "print(factorial_lr(5))\n",
    "print(factorial_lr(6))"
   ]
  },
  {
   "cell_type": "code",
   "execution_count": null,
   "id": "8b524374-e47e-49b1-8ccb-2c0bdedea27f",
   "metadata": {},
   "outputs": [],
   "source": []
  },
  {
   "cell_type": "code",
   "execution_count": null,
   "id": "2677a585-daea-4fdf-b452-ca7a61f7bd8f",
   "metadata": {},
   "outputs": [],
   "source": []
  },
  {
   "cell_type": "code",
   "execution_count": null,
   "id": "216d00c0-5fcf-4a2d-9988-98a86b307690",
   "metadata": {},
   "outputs": [],
   "source": []
  },
  {
   "cell_type": "code",
   "execution_count": null,
   "id": "cdc72aa4-59e5-4bf1-868a-63e90806ed72",
   "metadata": {},
   "outputs": [],
   "source": []
  },
  {
   "cell_type": "code",
   "execution_count": null,
   "id": "09eda0f9-a5ae-4c81-89cc-7e247e29899e",
   "metadata": {},
   "outputs": [],
   "source": []
  },
  {
   "cell_type": "code",
   "execution_count": null,
   "id": "175785c7-4683-480e-b1b5-992d6661ce67",
   "metadata": {},
   "outputs": [],
   "source": []
  }
 ],
 "metadata": {
  "kernelspec": {
   "display_name": "Python 3 (ipykernel)",
   "language": "python",
   "name": "python3"
  },
  "language_info": {
   "codemirror_mode": {
    "name": "ipython",
    "version": 3
   },
   "file_extension": ".py",
   "mimetype": "text/x-python",
   "name": "python",
   "nbconvert_exporter": "python",
   "pygments_lexer": "ipython3",
   "version": "3.11.7"
  }
 },
 "nbformat": 4,
 "nbformat_minor": 5
}
