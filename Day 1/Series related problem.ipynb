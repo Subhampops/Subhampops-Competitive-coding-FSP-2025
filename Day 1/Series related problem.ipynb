{
 "cells": [
  {
   "cell_type": "code",
   "execution_count": null,
   "id": "d32bd90b-49b1-41c4-af32-a0ee3000ac63",
   "metadata": {},
   "outputs": [],
   "source": [
    "#Problem Solving with Python#"
   ]
  },
  {
   "cell_type": "code",
   "execution_count": null,
   "id": "a2e6c498-3873-4787-aa3a-459d33ff915d",
   "metadata": {},
   "outputs": [],
   "source": [
    "Find the sum of first n terms of the following series:\n",
    "terms# -> 1\n",
    "total =   1 + 2 + 3 + 4 + 10 + 5 + 6 + 7 + 8 + 26 + 9 + 10 + 11 + ... n terms\n",
    "\n",
    "What is the 99th term  of the series?\n",
    "Test your code with the following cases:\n",
    "if n = 5, total = 20\n",
    "if n = 11, total = 81\n",
    "if n = 12, total = 91"
   ]
  },
  {
   "cell_type": "code",
   "execution_count": 1,
   "id": "cff43525-457e-4483-98ab-192666bf6aa0",
   "metadata": {},
   "outputs": [
    {
     "name": "stdin",
     "output_type": "stream",
     "text": [
      "Please enter the number of terms:  5\n"
     ]
    },
    {
     "name": "stdout",
     "output_type": "stream",
     "text": [
      "For i = 1, adding next term = 1\n",
      "For i = 2, adding next term = 2\n",
      "For i = 3, adding next term = 3\n",
      "For i = 4, adding next term = 4\n",
      "For i = 5, adding tsum = 10\n",
      "So the final total of the series is 20\n",
      "End of the program...\n"
     ]
    }
   ],
   "source": [
    "n = int(input(\"Please enter the number of terms: \"))\n",
    "fsum = tsum = 0\n",
    "term = 1\n",
    "for i in range(1, n + 1):\n",
    "    if (i % 5 == 0):\n",
    "        fsum += tsum\n",
    "        print(f\"For i = {i}, adding tsum = {tsum}\")\n",
    "        tsum = 0\n",
    "    else:\n",
    "        fsum += term\n",
    "        print(f\"For i = {i}, adding next term = {term}\")\n",
    "        tsum += term\n",
    "        term += 1\n",
    "print(\"So the final total of the series is\", fsum)\n",
    "print(\"End of the program...\")"
   ]
  },
  {
   "cell_type": "code",
   "execution_count": 4,
   "id": "d9f45e67-19e9-494c-bfe6-095e623b3fcd",
   "metadata": {},
   "outputs": [
    {
     "name": "stdin",
     "output_type": "stream",
     "text": [
      "Please enter the number of terms:  14\n"
     ]
    },
    {
     "name": "stdout",
     "output_type": "stream",
     "text": [
      "8 4\n",
      "72\n",
      "114\n",
      "114\n"
     ]
    }
   ],
   "source": [
    "n = int(input(\"Please enter the number of terms: \"))\n",
    "last_term = 4 * (n // 5)\n",
    "extra_terms = n % 5\n",
    "total = 0\n",
    "print(last_term, extra_terms)\n",
    "total = total + last_term * (last_term + 1)\n",
    "print(total)\n",
    "total = total + last_term * extra_terms + extra_terms * (extra_terms + 1) // 2\n",
    "print(total)\n",
    "print(eval(\"1 + 2 + 3 + 4 + 10 + 5 + 6 + 7 + 8 + 26 + 9 + 10 + 11 + 12\"))"
   ]
  },
  {
   "cell_type": "code",
   "execution_count": null,
   "id": "d34697cc-16df-41da-b502-e35385800921",
   "metadata": {},
   "outputs": [],
   "source": [
    "# Series Problem - 2\n",
    "#     i = 1   2   3   4   5   6    7    8    9    10 ...\n",
    "# total = 1 - 3 + 5 - 7 + 9 - 11 + 13 - 15 + 17 - 19 + ...\n",
    "# Write a program in C++/Java/Python to print the first n terms of the series. Take integer n from the user."
   ]
  },
  {
   "cell_type": "code",
   "execution_count": 8,
   "id": "84566aa6-fb70-444b-93a3-7561570630b9",
   "metadata": {},
   "outputs": [
    {
     "name": "stdin",
     "output_type": "stream",
     "text": [
      "Please enter the number of terms:  5\n"
     ]
    },
    {
     "name": "stdout",
     "output_type": "stream",
     "text": [
      "So for i = 1, term = 1...\n",
      "So for i = 2, term = -3...\n",
      "So for i = 3, term = 5...\n",
      "So for i = 4, term = -7...\n",
      "So for i = 5, term = 9...\n",
      "So total = 5\n",
      "End of the program...\n"
     ]
    }
   ],
   "source": [
    "n = int(input(\"Please enter the number of terms: \"))\n",
    "total = 0\n",
    "for i in range(1, n + 1):\n",
    "    term = ((-1) ** (i + 1)) * (2 * i - 1)\n",
    "    print(f\"So for i = {i}, term = {term}...\")\n",
    "    total = total + term\n",
    "print(\"So total =\", total)\n",
    "print(\"End of the program...\")"
   ]
  },
  {
   "cell_type": "code",
   "execution_count": null,
   "id": "05df57a7-f76a-4059-a1d7-d6e9382767d7",
   "metadata": {},
   "outputs": [],
   "source": [
    "# Series Problem - 3\n",
    "#     i =   1   2   3   4   5   6    7    8    9    10 ...\n",
    "# total = - 1 + 3 - 5 + 7 - 9 + 11 - 13 + 15 - 17 + 19 + ...\n",
    "# Write a program in C++/Java/Python to print the first n terms of the series. Take integer n from the user."
   ]
  },
  {
   "cell_type": "code",
   "execution_count": 9,
   "id": "7f3546c9-5bb8-4868-997e-f337d13b0d24",
   "metadata": {},
   "outputs": [
    {
     "name": "stdin",
     "output_type": "stream",
     "text": [
      "Please enter the number of terms:  5\n"
     ]
    },
    {
     "name": "stdout",
     "output_type": "stream",
     "text": [
      "So for i = 1, term = -1...\n",
      "So for i = 2, term = 3...\n",
      "So for i = 3, term = -5...\n",
      "So for i = 4, term = 7...\n",
      "So for i = 5, term = -9...\n",
      "So total = -5\n",
      "End of the program...\n"
     ]
    }
   ],
   "source": [
    "n = int(input(\"Please enter the number of terms: \"))\n",
    "total = 0\n",
    "for i in range(1, n + 1):\n",
    "    term = ((-1) ** i) * (2 * i - 1)\n",
    "    print(f\"So for i = {i}, term = {term}...\")\n",
    "    total = total + term\n",
    "print(\"So total =\", total)\n",
    "print(\"End of the program...\")"
   ]
  },
  {
   "cell_type": "code",
   "execution_count": null,
   "id": "15401b7a-8f34-4921-931b-a1b3b4280128",
   "metadata": {},
   "outputs": [],
   "source": [
    "# Series Problem - 4\n",
    "#     i =   1    2    3    4    5    6    7 ...\n",
    "# total =   1! + 2! + 3! + 4! + 5! + 6! + 7! + ......\n",
    "# Write a program in C++/Java/Python to print the first n terms of the series. Take integer n from the user."
   ]
  },
  {
   "cell_type": "code",
   "execution_count": 12,
   "id": "06ec6399-c600-4e9d-af7f-2c9cb49b27a3",
   "metadata": {},
   "outputs": [
    {
     "name": "stdin",
     "output_type": "stream",
     "text": [
      "Please enter the number of terms:  5\n"
     ]
    },
    {
     "name": "stdout",
     "output_type": "stream",
     "text": [
      "So for i = 1, term = 1...\n",
      "So for i = 2, term = 2...\n",
      "So for i = 3, term = 6...\n",
      "So for i = 4, term = 24...\n",
      "So for i = 5, term = 120...\n",
      "So total = 153\n",
      "End of the program...\n"
     ]
    }
   ],
   "source": [
    "n = int(input(\"Please enter the number of terms: \"))\n",
    "total = 0\n",
    "fact = 1\n",
    "for i in range(1, n + 1):\n",
    "    total = total + fact\n",
    "    print(f\"So for i = {i}, term = {fact}...\")\n",
    "    fact = fact * ( i + 1 )\n",
    "print(\"So total =\", total)\n",
    "print(\"End of the program...\")"
   ]
  },
  {
   "cell_type": "code",
   "execution_count": null,
   "id": "7df25600-a025-4b04-b954-adcb20f99f2d",
   "metadata": {},
   "outputs": [],
   "source": [
    "# Series Problem - 5\n",
    "#     i =   1    2    3    4    5     6     7 ...\n",
    "# total =   1! + 3! + 5! + 7! + 9! + 11! + 13! + \n",
    "# Write a program in C++/Java/Python to print the first n terms of the series. Take integer n from the user.\n",
    "    i  term1, term2\n",
    "-----------------------\n",
    "    1  2, 3\n",
    "    2  4, 5\n",
    "    3  6, 7\n",
    "    ...\n",
    "    i  (2 * i), (2 * i + 1)\n",
    "-----------------------\n",
    "  Tracing Table"
   ]
  },
  {
   "cell_type": "code",
   "execution_count": 13,
   "id": "51199e74-6802-470e-9b6d-5f04c3557f5a",
   "metadata": {},
   "outputs": [
    {
     "name": "stdin",
     "output_type": "stream",
     "text": [
      "Please enter the number of terms:  4\n"
     ]
    },
    {
     "name": "stdout",
     "output_type": "stream",
     "text": [
      "So for i = 1, term = 1...\n",
      "So for i = 2, term = 6...\n",
      "So for i = 3, term = 120...\n",
      "So for i = 4, term = 5040...\n",
      "So total = 5167\n",
      "End of the program...\n"
     ]
    }
   ],
   "source": [
    "n = int(input(\"Please enter the number of terms: \"))\n",
    "total = 0\n",
    "fact = 1\n",
    "for i in range(1, n + 1):\n",
    "    total = total + fact\n",
    "    print(f\"So for i = {i}, term = {fact}...\")\n",
    "    fact = fact * ( 2 * i ) * ( 2 * i + 1)\n",
    "print(\"So total =\", total)\n",
    "print(\"End of the program...\")"
   ]
  },
  {
   "cell_type": "code",
   "execution_count": null,
   "id": "bcfb4352-30ff-481e-b1bd-8793960ce0d1",
   "metadata": {},
   "outputs": [],
   "source": [
    "# Series Problem - 6\n",
    "#     i =   1    2    3    4     5     6     7 ...\n",
    "# total =   2! + 4! + 6! + 8! + 10! + 12! + 14! + \n",
    "# Write a program in C++/Java/Python to print the first n terms of the series. Take integer n from the user.\n",
    "    i  term1, term2\n",
    "-----------------------\n",
    "    1  3  4\n",
    "    2  5  6\n",
    "    3  7  8\n",
    "    ...\n",
    "    i  ( 2 * i + 1), (2 * i + 2)\n",
    "-----------------------\n",
    "  Tracing Table"
   ]
  },
  {
   "cell_type": "code",
   "execution_count": 17,
   "id": "90f10fc6-93a2-4a9e-a626-3fa3f1932877",
   "metadata": {},
   "outputs": [
    {
     "name": "stdin",
     "output_type": "stream",
     "text": [
      "Please enter the number of terms:  4\n"
     ]
    },
    {
     "name": "stdout",
     "output_type": "stream",
     "text": [
      "So for i = 1, term = 2...\n",
      "So for i = 2, term = 24...\n",
      "So for i = 3, term = 720...\n",
      "So for i = 4, term = 40320...\n",
      "So total = 41066\n",
      "End of the program...\n"
     ]
    }
   ],
   "source": [
    "n = int(input(\"Please enter the number of terms: \"))\n",
    "total = 0\n",
    "fact = 2\n",
    "for i in range(1, n + 1):\n",
    "    total = total + fact\n",
    "    print(f\"So for i = {i}, term = {fact}...\")\n",
    "    fact = fact * (2 * i + 2) * ( 2 * i + 1)\n",
    "print(\"So total =\", total)\n",
    "print(\"End of the program...\")"
   ]
  },
  {
   "cell_type": "code",
   "execution_count": null,
   "id": "2781b9ea-4270-40a2-8a07-f1b7185c569f",
   "metadata": {},
   "outputs": [],
   "source": []
  },
  {
   "cell_type": "code",
   "execution_count": null,
   "id": "81976ad7-6113-49b9-814e-a1a8d026c669",
   "metadata": {},
   "outputs": [],
   "source": []
  },
  {
   "cell_type": "code",
   "execution_count": null,
   "id": "cdfadd58-19df-4602-9de8-80f80252db8e",
   "metadata": {},
   "outputs": [],
   "source": []
  },
  {
   "cell_type": "code",
   "execution_count": null,
   "id": "fdd5d1fa-3363-4e1d-9431-1d2a5c7e47db",
   "metadata": {},
   "outputs": [],
   "source": []
  },
  {
   "cell_type": "code",
   "execution_count": null,
   "id": "f2e321bc-49cb-4436-a383-a1bb04927bfd",
   "metadata": {},
   "outputs": [],
   "source": []
  },
  {
   "cell_type": "code",
   "execution_count": null,
   "id": "6c99b29c-0734-48a8-97c1-466e0dd88762",
   "metadata": {},
   "outputs": [],
   "source": []
  },
  {
   "cell_type": "code",
   "execution_count": null,
   "id": "0430575b-7ab7-4349-b67d-9538f8a5bc46",
   "metadata": {},
   "outputs": [],
   "source": []
  },
  {
   "cell_type": "code",
   "execution_count": null,
   "id": "2094ecf5-9caa-41da-8db9-52897312b61f",
   "metadata": {},
   "outputs": [],
   "source": []
  },
  {
   "cell_type": "code",
   "execution_count": null,
   "id": "479acedf-0d3e-456e-ab2e-abc887030659",
   "metadata": {},
   "outputs": [],
   "source": []
  }
 ],
 "metadata": {
  "kernelspec": {
   "display_name": "Python 3 (ipykernel)",
   "language": "python",
   "name": "python3"
  },
  "language_info": {
   "codemirror_mode": {
    "name": "ipython",
    "version": 3
   },
   "file_extension": ".py",
   "mimetype": "text/x-python",
   "name": "python",
   "nbconvert_exporter": "python",
   "pygments_lexer": "ipython3",
   "version": "3.11.7"
  }
 },
 "nbformat": 4,
 "nbformat_minor": 5
}
